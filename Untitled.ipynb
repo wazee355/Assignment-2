{
 "cells": [
  {
   "cell_type": "raw",
   "id": "4217e195",
   "metadata": {},
   "source": [
    "1. What are the two values of the Boolean data type? How do you write them?\n",
    "\n",
    "Answer- There are only two types of Boolean values : 1.True and 2.False\n",
    "        The python boolean type is one of Python's built in data types. It is use to represent the truth value of an expression. For example if 1<=2 is True while 0==1 is False."
   ]
  },
  {
   "cell_type": "raw",
   "id": "b9f03f0a",
   "metadata": {},
   "source": [
    "2. What are the three different types of Boolean operators?\n",
    "\n",
    "Answer- There are three types of Boolean operators which are : AND, OR,and NOT. \n",
    "    These three logical operator is used to comapare values. They evalute expressions\n",
    "    down to Boolean values returning either True or False."
   ]
  },
  {
   "cell_type": "raw",
   "id": "b9e05d90",
   "metadata": {},
   "source": [
    "3. Make a list of each Boolean operators truth tables(i.e. every possible combination of Boolean\n",
    "values for the operator and what it evaluate ).\n",
    "\n",
    "Answer- 1           2           NOT (x)       AND(X&Y)       OR(XY)\n",
    "        false      false        true          false           false \n",
    "        false      true         true          false           true\n",
    "        true       false        false         false           true\n",
    "        true       true         false         true            true"
   ]
  },
  {
   "cell_type": "raw",
   "id": "aab9c337",
   "metadata": {},
   "source": [
    "4. What are the values of the following expressions?\n",
    "\n",
    "(5>4) and (3==5) - False\n",
    "not (5>4) - False \n",
    "(5>4) and (3==5) - False\n",
    "not((5>4) and (3==5)) - True\n",
    "(True and True) and (True == False) - False\n",
    "(not False) or (not True) - True"
   ]
  },
  {
   "cell_type": "raw",
   "id": "99ba2683",
   "metadata": {},
   "source": [
    "5. What are the six comparison operators?\n",
    "\n",
    "Answer- The six comparison operators are: \n",
    "1. less than(<)\n",
    "2. greater than(>)\n",
    "3. less than or equal to(<=)\n",
    "4. greater than or equal to(>=)\n",
    "5. equal to(=)\n",
    "6. not equal to(!=)"
   ]
  },
  {
   "cell_type": "raw",
   "id": "29c006b7",
   "metadata": {},
   "source": [
    "6. How do you tell the difference between the equal to and assignment operators?Describe a condition and when you would use one.\n",
    "\n",
    "Answer- Both equal to and assignment operator is not same, = is an assignment is used to assign the value of variable or expression, while == is equal to operator and it is a relation operatorn used for comaprison both left and right side of oerands. for example:\n",
    "\"=\" - x=10, y=9\n",
    "\"==\" - if(x==y):\n",
    "          print('True')\n",
    "       else \n",
    "          print('False')  \n",
    "    "
   ]
  },
  {
   "cell_type": "raw",
   "id": "2aad2f95",
   "metadata": {},
   "source": [
    "7.Identify the three blocks in this code:\n",
    "spam = 0\n",
    "if spam == 10:\n",
    "print(eggs)\n",
    "if spam > 5:\n",
    "print(bacon)\n",
    "else:\n",
    "print(ham)\n",
    "print(spam)\n",
    "print(spam)\n",
    "      \n",
    "Answer- Three three blocks in this code is inside the if statement and the lines print('bacon') and print('ham') \n",
    "      "
   ]
  },
  {
   "cell_type": "raw",
   "id": "7c205aa9",
   "metadata": {},
   "source": [
    "8.Write code that prints Hello if 1 is stored in spam, prints Howdy if 2 is stored in spam, and prints Greetings! if anything else is stored in spam."
   ]
  },
  {
   "cell_type": "code",
   "execution_count": null,
   "id": "8644a7f1",
   "metadata": {},
   "outputs": [],
   "source": [
    "spam = int(input())\n",
    "if spam == 1:\n",
    "    print('hello')\n",
    "elif spam == 2:\n",
    "    print('howdy')\n",
    "else:\n",
    "    print('Greeting!')"
   ]
  },
  {
   "cell_type": "raw",
   "id": "da46e15e",
   "metadata": {},
   "source": [
    "9.If your programme is stuck in an endless loop, what keys you’ll press?\n",
    "\n",
    "Answer- We can use CTRL+C to stop infinite loop."
   ]
  },
  {
   "cell_type": "raw",
   "id": "8b77e90d",
   "metadata": {},
   "source": [
    "10. How can you tell the difference between break and continue?\n",
    "\n",
    "Answer- The primary difference between break and continue is breaks terminates the execution of the current loop and passes the control over the next loop or main body, whereas when continue keyword is encountered, it skips the current iteration and executes the very next iteration in the loop."
   ]
  },
  {
   "cell_type": "raw",
   "id": "fde4025b",
   "metadata": {},
   "source": [
    "11. In a for loop, what is the difference between range(10), range(0, 10), and range(0, 10, 1)?\n",
    "\n",
    "Answer- The differences are range(10) it means to print 10 numbers including 0 (0,1,2,3,4,5,6,7,8,9), range (0,10) it means to print the number starts from 0th postion to 10th position, and range(0,10,1)means to print the numbers from 0th position to the 10th position with the skip of 1."
   ]
  },
  {
   "cell_type": "raw",
   "id": "129abfb1",
   "metadata": {},
   "source": [
    "12. Write a short program that prints the numbers 1 to 10 using a for loop. Then write an equivalent program that prints the numbers 1 to 10 using a while loop."
   ]
  },
  {
   "cell_type": "code",
   "execution_count": 1,
   "id": "74d5aac2",
   "metadata": {},
   "outputs": [
    {
     "name": "stdout",
     "output_type": "stream",
     "text": [
      "1\n",
      "2\n",
      "3\n",
      "4\n",
      "5\n",
      "6\n",
      "7\n",
      "8\n",
      "9\n",
      "10\n"
     ]
    }
   ],
   "source": [
    "for i in range(1,11):\n",
    "    print(i)"
   ]
  },
  {
   "cell_type": "code",
   "execution_count": 4,
   "id": "27cf5a86",
   "metadata": {},
   "outputs": [
    {
     "name": "stdout",
     "output_type": "stream",
     "text": [
      "1\n",
      "2\n",
      "3\n",
      "4\n",
      "5\n",
      "6\n",
      "7\n",
      "8\n",
      "9\n",
      "10\n"
     ]
    }
   ],
   "source": [
    "i= 1\n",
    "while (i<=10):\n",
    "    print(i)\n",
    "    i=i+1"
   ]
  },
  {
   "cell_type": "raw",
   "id": "a46e5003",
   "metadata": {},
   "source": [
    "13. If you had a function named bacon() inside a module named spam, how would you call it after importing spam?\n",
    "\n",
    "Answer- This function can be called with spam.bacon()"
   ]
  },
  {
   "cell_type": "code",
   "execution_count": null,
   "id": "a257d93a",
   "metadata": {},
   "outputs": [],
   "source": []
  }
 ],
 "metadata": {
  "kernelspec": {
   "display_name": "Python 3 (ipykernel)",
   "language": "python",
   "name": "python3"
  },
  "language_info": {
   "codemirror_mode": {
    "name": "ipython",
    "version": 3
   },
   "file_extension": ".py",
   "mimetype": "text/x-python",
   "name": "python",
   "nbconvert_exporter": "python",
   "pygments_lexer": "ipython3",
   "version": "3.9.7"
  }
 },
 "nbformat": 4,
 "nbformat_minor": 5
}
